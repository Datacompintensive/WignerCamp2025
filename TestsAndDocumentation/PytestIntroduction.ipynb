{
 "cells": [
  {
   "cell_type": "markdown",
   "id": "a779d900",
   "metadata": {},
   "source": [
    "# Introduction to `pytest`\n",
    "\n",
    "This notebook introduces `pytest`, a powerful framework for testing Python code.\n",
    "\n",
    "[![Open In Colab](https://colab.research.google.com/assets/colab-badge.svg)](https://colab.research.google.com/github/Datacompintensive/WignerCamp2025/blob/master/BasicTests/PytestIntroduction.ipynb)\n",
    "\n",
    "We'll cover:\n",
    "- Writing and running tests\n",
    "- Checking for exceptions\n",
    "- Comparing floats and arrays\n",
    "- Common mistakes\n",
    "- Exercises with solutions"
   ]
  },
  {
   "cell_type": "code",
   "execution_count": 1,
   "id": "91a79858",
   "metadata": {},
   "outputs": [],
   "source": [
    "import pytest\n",
    "import numpy as np\n",
    "import math"
   ]
  },
  {
   "cell_type": "markdown",
   "id": "056e48dd",
   "metadata": {},
   "source": [
    "## ✅ Basic Test Function"
   ]
  },
  {
   "cell_type": "code",
   "execution_count": 2,
   "id": "1f37e923",
   "metadata": {},
   "outputs": [
    {
     "name": "stdout",
     "output_type": "stream",
     "text": [
      "test_square passed.\n"
     ]
    }
   ],
   "source": [
    "def square(x):\n",
    "    return x * x\n",
    "\n",
    "def test_square():\n",
    "    assert square(2) == 4\n",
    "    assert square(-3) == 9\n",
    "\n",
    "# Run the test\n",
    "test_square()\n",
    "print(\"test_square passed.\")"
   ]
  },
  {
   "cell_type": "markdown",
   "id": "b44a6647",
   "metadata": {},
   "source": [
    "## ⚠️ Testing Exceptions"
   ]
  },
  {
   "cell_type": "code",
   "execution_count": 3,
   "id": "8dc6f3e1",
   "metadata": {},
   "outputs": [
    {
     "name": "stdout",
     "output_type": "stream",
     "text": [
      "test_divide_by_zero passed.\n"
     ]
    }
   ],
   "source": [
    "def divide(x, y):\n",
    "    return x / y\n",
    "\n",
    "def test_divide_by_zero():\n",
    "    with pytest.raises(ZeroDivisionError):\n",
    "        divide(1, 0)\n",
    "\n",
    "test_divide_by_zero()\n",
    "print(\"test_divide_by_zero passed.\")"
   ]
  },
  {
   "cell_type": "markdown",
   "id": "52f75aa5",
   "metadata": {},
   "source": [
    "## 🔢 Comparing Floats"
   ]
  },
  {
   "cell_type": "code",
   "execution_count": 4,
   "id": "306b12a1",
   "metadata": {},
   "outputs": [
    {
     "name": "stdout",
     "output_type": "stream",
     "text": [
      "test_reciprocal passed.\n"
     ]
    }
   ],
   "source": [
    "def reciprocal(x):\n",
    "    return 1 / x\n",
    "\n",
    "def test_reciprocal():\n",
    "    assert reciprocal(2.0) == pytest.approx(0.5)\n",
    "\n",
    "test_reciprocal()\n",
    "print(\"test_reciprocal passed.\")"
   ]
  },
  {
   "cell_type": "markdown",
   "id": "3d597a56",
   "metadata": {},
   "source": [
    "## 📐 Comparing NumPy Arrays"
   ]
  },
  {
   "cell_type": "code",
   "execution_count": 5,
   "id": "1d67f532",
   "metadata": {},
   "outputs": [
    {
     "name": "stdout",
     "output_type": "stream",
     "text": [
      "test_normalize passed.\n"
     ]
    }
   ],
   "source": [
    "def normalize(v):\n",
    "    return v / np.linalg.norm(v)\n",
    "\n",
    "def test_normalize():\n",
    "    v = np.array([3.0, 4.0])\n",
    "    expected = np.array([0.6, 0.8])\n",
    "    np.testing.assert_allclose(normalize(v), expected, rtol=1e-5)\n",
    "\n",
    "test_normalize()\n",
    "print(\"test_normalize passed.\")"
   ]
  },
  {
   "cell_type": "markdown",
   "id": "8ee1807b",
   "metadata": {},
   "source": [
    "## ❌ Example of a Failing Test"
   ]
  },
  {
   "cell_type": "code",
   "execution_count": 6,
   "id": "77b3cf5d",
   "metadata": {},
   "outputs": [
    {
     "name": "stdout",
     "output_type": "stream",
     "text": [
      "Test failed as expected\n"
     ]
    },
    {
     "ename": "AssertionError",
     "evalue": "",
     "output_type": "error",
     "traceback": [
      "\u001b[0;31m---------------------------------------------------------------------------\u001b[0m",
      "\u001b[0;31mAssertionError\u001b[0m                            Traceback (most recent call last)",
      "Cell \u001b[0;32mIn[6], line 11\u001b[0m\n\u001b[1;32m      8\u001b[0m     \u001b[38;5;28mprint\u001b[39m(\u001b[38;5;124m\"\u001b[39m\u001b[38;5;124mTest failed as expected\u001b[39m\u001b[38;5;124m\"\u001b[39m)\n\u001b[1;32m     10\u001b[0m \u001b[38;5;66;03m# Not catching the error\u001b[39;00m\n\u001b[0;32m---> 11\u001b[0m \u001b[43mtest_fail\u001b[49m\u001b[43m(\u001b[49m\u001b[43m)\u001b[49m\n",
      "Cell \u001b[0;32mIn[6], line 2\u001b[0m, in \u001b[0;36mtest_fail\u001b[0;34m()\u001b[0m\n\u001b[1;32m      1\u001b[0m \u001b[38;5;28;01mdef\u001b[39;00m\u001b[38;5;250m \u001b[39m\u001b[38;5;21mtest_fail\u001b[39m():\n\u001b[0;32m----> 2\u001b[0m     \u001b[38;5;28;01massert\u001b[39;00m (\u001b[38;5;241m1\u001b[39m \u001b[38;5;241m+\u001b[39m \u001b[38;5;241m1\u001b[39m) \u001b[38;5;241m==\u001b[39m \u001b[38;5;241m3\u001b[39m\n",
      "\u001b[0;31mAssertionError\u001b[0m: "
     ]
    }
   ],
   "source": [
    "def test_fail():\n",
    "    assert (1 + 1) == 3\n",
    "\n",
    "# Catching the error\n",
    "try:\n",
    "    test_fail()\n",
    "except AssertionError as e:\n",
    "    print(\"Test failed as expected\")\n",
    "\n",
    "# Not catching the error\n",
    "test_fail()"
   ]
  },
  {
   "cell_type": "markdown",
   "id": "00da0409",
   "metadata": {},
   "source": [
    "## 🧪 Exercise 1\n",
    "Write and test a `double(x)` function."
   ]
  },
  {
   "cell_type": "code",
   "execution_count": null,
   "id": "54fbb294",
   "metadata": {},
   "outputs": [
    {
     "name": "stdout",
     "output_type": "stream",
     "text": [
      "test_double passed.\n"
     ]
    }
   ],
   "source": [
    "def double(x):\n",
    "    return 2 * x\n",
    "\n",
    "def test_double():\n",
    "    # Write your solution here\n",
    "    pass\n",
    "\n",
    "test_double()\n",
    "print(\"test_double passed.\")"
   ]
  },
  {
   "cell_type": "markdown",
   "id": "c304b667",
   "metadata": {},
   "source": [
    "## 🧪 Exercise 2\n",
    "Test `safe_log(x)` with valid and invalid inputs."
   ]
  },
  {
   "cell_type": "code",
   "execution_count": null,
   "id": "69f30ca9",
   "metadata": {},
   "outputs": [
    {
     "name": "stdout",
     "output_type": "stream",
     "text": [
      "test_safe_log passed.\n"
     ]
    }
   ],
   "source": [
    "def safe_log(x):\n",
    "    if x <= 0:\n",
    "        raise ValueError(\"x must be positive\")\n",
    "    return math.log(x)\n",
    "\n",
    "def test_safe_log():\n",
    "    # Write your solution here\n",
    "    pass\n",
    "\n",
    "test_safe_log()\n",
    "print(\"test_safe_log passed.\")"
   ]
  },
  {
   "cell_type": "markdown",
   "id": "8f253da7",
   "metadata": {},
   "source": [
    "## 🧪 Running Tests in Files\n",
    "\n",
    "While you can run tests in notebooks by calling them manually, for full test suites use:\n",
    "\n",
    "```bash\n",
    "pytest my_test_file.py\n",
    "```"
   ]
  }
 ],
 "metadata": {
  "kernelspec": {
   "display_name": "CompPhys",
   "language": "python",
   "name": "python3"
  },
  "language_info": {
   "codemirror_mode": {
    "name": "ipython",
    "version": 3
   },
   "file_extension": ".py",
   "mimetype": "text/x-python",
   "name": "python",
   "nbconvert_exporter": "python",
   "pygments_lexer": "ipython3",
   "version": "3.9.18"
  }
 },
 "nbformat": 4,
 "nbformat_minor": 5
}
