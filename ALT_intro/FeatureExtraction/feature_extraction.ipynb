{
 "cells": [
  {
   "cell_type": "markdown",
   "id": "b794043a",
   "metadata": {},
   "source": [
    "[![Open In Colab](https://colab.research.google.com/assets/colab-badge.svg)](https://colab.research.google.com/github/Datacompintensive/WignerCamp2025/blob/master/ALT_intro/FeatureExtraction/feature_extraction.ipynb)"
   ]
  },
  {
   "cell_type": "markdown",
   "id": "5a6f4786",
   "metadata": {},
   "source": [
    "# Feature Extraction with PyTorch\n",
    "\n",
    "This exercise is designed to help students become familiar with basic tensor operations in PyTorch, focusing on statistical feature extraction.\n",
    "\n",
    "## Task\n",
    "\n",
    "You need to implement **two functions** in `feature_extraction.py`:\n",
    "\n",
    "1. `mean_all(x: torch.Tensor) -> float`:  \n",
    "   Computes the mean of **all elements** in a 2D tensor.  \n",
    "   Hint: [torch.mean](https://pytorch.org/docs/stable/generated/torch.mean.html).\n",
    "\n",
    "2. `mean_percentile(x: torch.Tensor, q: float) -> float`:  \n",
    "   For each row in the 2D tensor `x`, compute the `q`-th percentile (e.g., 0.05 for 5%) using `torch.quantile`, then return the mean of these percentile values.  \n",
    "   Hint: [torch.quantile](https://pytorch.org/docs/stable/generated/torch.quantile.html).\n",
    "\n",
    "### Files\n",
    "\n",
    "- `feature_extraction.py`: Script to implement your functions.\n",
    "- `test_feature_extraction.py`: Pytest-based test suite.\n",
    "- `solution.py`: Contains a correct solution for reference."
   ]
  },
  {
   "cell_type": "code",
   "execution_count": null,
   "id": "1e01e079",
   "metadata": {
    "vscode": {
     "languageId": "plaintext"
    }
   },
   "outputs": [],
   "source": [
    "import torch"
   ]
  },
  {
   "cell_type": "code",
   "execution_count": null,
   "id": "0288b981",
   "metadata": {
    "vscode": {
     "languageId": "plaintext"
    }
   },
   "outputs": [],
   "source": [
    "def mean_all(x: torch.Tensor) -> float:\n",
    "    \"\"\"\n",
    "    Compute the mean of all elements in a 2D tensor.\n",
    "\n",
    "    Args:\n",
    "        x (torch.Tensor): A 2D tensor.\n",
    "\n",
    "    Returns:\n",
    "        float: The mean of all elements.\n",
    "    \"\"\"\n",
    "    # TODO: Implement this function\n",
    "    pass"
   ]
  },
  {
   "cell_type": "code",
   "execution_count": null,
   "id": "d044353f",
   "metadata": {
    "vscode": {
     "languageId": "plaintext"
    }
   },
   "outputs": [],
   "source": [
    "def mean_percentile(x: torch.Tensor, q: float) -> float:\n",
    "    \"\"\"\n",
    "    For each row of x, compute the q-th percentile, then return the mean of these percentiles.\n",
    "\n",
    "    Args:\n",
    "        x (torch.Tensor): A 2D tensor.\n",
    "        q (float): The quantile to compute (between 0 and 1).\n",
    "\n",
    "    Returns:\n",
    "        float: Mean of row-wise q-th percentiles.\n",
    "    \"\"\"\n",
    "    # TODO: Implement this function\n",
    "    pass"
   ]
  }
 ],
 "metadata": {
  "language_info": {
   "name": "python"
  }
 },
 "nbformat": 4,
 "nbformat_minor": 5
}
