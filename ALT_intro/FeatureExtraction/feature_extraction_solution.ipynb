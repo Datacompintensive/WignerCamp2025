{
  "cells": [
    {
      "cell_type": "markdown",
      "id": "b794043a",
      "metadata": {
        "id": "b794043a"
      },
      "source": [
        "[![Open In Colab](https://colab.research.google.com/assets/colab-badge.svg)](https://colab.research.google.com/github/Datacompintensive/WignerCamp2025/blob/master/ALT_intro/FeatureExtraction/feature_extraction_solution.ipynb)"
      ]
    },
    {
      "cell_type": "markdown",
      "id": "5a6f4786",
      "metadata": {
        "id": "5a6f4786"
      },
      "source": [
        "# Feature Extraction with PyTorch\n",
        "\n",
        "This exercise is designed to help students become familiar with basic tensor operations in PyTorch, focusing on statistical feature extraction.\n",
        "\n",
        "## Task\n",
        "\n",
        "You need to implement **two functions** in `feature_extraction.py`:\n",
        "\n",
        "1. `mean_all(x: torch.Tensor) -> float`:  \n",
        "   Computes the mean of **all elements** in a 2D tensor.  \n",
        "   Hint: [torch.mean](https://pytorch.org/docs/stable/generated/torch.mean.html).\n",
        "\n",
        "2. `mean_percentile(x: torch.Tensor, q: float) -> float`:  \n",
        "   For each row in the 2D tensor `x`, compute the `q`-th percentile (e.g., 0.05 for 5%) using `torch.quantile`, then return the mean of these percentile values.  \n",
        "   Hint: [torch.quantile](https://pytorch.org/docs/stable/generated/torch.quantile.html).\n",
        "\n",
        "### Files\n",
        "\n",
        "- `feature_extraction.py`: Script to implement your functions.\n",
        "- `test_feature_extraction.py`: Pytest-based test suite.\n",
        "- `solution.py`: Contains a correct solution for reference."
      ]
    },
    {
      "cell_type": "code",
      "execution_count": 1,
      "id": "1e01e079",
      "metadata": {
        "vscode": {
          "languageId": "plaintext"
        },
        "id": "1e01e079"
      },
      "outputs": [],
      "source": [
        "import torch"
      ]
    },
    {
      "cell_type": "code",
      "execution_count": 14,
      "id": "0288b981",
      "metadata": {
        "vscode": {
          "languageId": "plaintext"
        },
        "id": "0288b981"
      },
      "outputs": [],
      "source": [
        "def mean_all(matrix: torch.Tensor) -> float:\n",
        "    \"\"\"\n",
        "    Compute the mean of all elements in a 2D tensor.\n",
        "\n",
        "    Args:\n",
        "        x (torch.Tensor): A 2D tensor.\n",
        "\n",
        "    Returns:\n",
        "        float: The mean of all elements.\n",
        "    \"\"\"\n",
        "    return torch.mean(matrix).item()"
      ]
    },
    {
      "cell_type": "code",
      "execution_count": 20,
      "id": "d044353f",
      "metadata": {
        "vscode": {
          "languageId": "plaintext"
        },
        "id": "d044353f"
      },
      "outputs": [],
      "source": [
        "def mean_percentile(matrix: torch.Tensor, q: float) -> float:\n",
        "    \"\"\"\n",
        "    For each row of x, compute the q-th percentile, then return the mean of these percentiles.\n",
        "\n",
        "    Args:\n",
        "        x (torch.Tensor): A 2D tensor.\n",
        "        q (float): The quantile to compute (between 0 and 1).\n",
        "\n",
        "    Returns:\n",
        "        float: Mean of row-wise q-th percentiles.\n",
        "    \"\"\"\n",
        "    percentiles = torch.quantile(matrix, q, dim=0)\n",
        "    return torch.mean(percentiles)"
      ]
    },
    {
      "cell_type": "code",
      "source": [
        "matrix = torch.tensor([[2.0, 5.0], [5.0, -3.0]])\n",
        "q = 0.15\n",
        "print(f\"Mean of all elements: {mean_all(matrix)}\")\n",
        "\n",
        "print(f\"Mean of q={q} percentiles: {mean_percentile(matrix, q)}\")"
      ],
      "metadata": {
        "id": "y_JCAGa5IVUw",
        "outputId": "1aca0930-0cca-47d8-b18c-0fa6bb57abed",
        "colab": {
          "base_uri": "https://localhost:8080/"
        }
      },
      "id": "y_JCAGa5IVUw",
      "execution_count": 22,
      "outputs": [
        {
          "output_type": "stream",
          "name": "stdout",
          "text": [
            "Mean of all elements: 2.25\n",
            "Mean of q=0.15 percentiles: 0.3250000476837158\n"
          ]
        }
      ]
    }
  ],
  "metadata": {
    "language_info": {
      "name": "python"
    },
    "colab": {
      "provenance": []
    },
    "kernelspec": {
      "name": "python3",
      "display_name": "Python 3"
    }
  },
  "nbformat": 4,
  "nbformat_minor": 5
}