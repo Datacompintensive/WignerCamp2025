{
 "cells": [
  {
   "cell_type": "markdown",
   "id": "13b29c8c",
   "metadata": {},
   "source": [
    "[![Open In Colab](https://colab.research.google.com/assets/colab-badge.svg)](https://colab.research.google.com/github/Datacompintensive/WignerCamp2025/blob/master/ALT_intro/Eigenvector/eigenvector_fined.ipynb)"
   ]
  },
  {
   "cell_type": "markdown",
   "id": "f123bc98",
   "metadata": {},
   "source": [
    "# Eigenvector Finder for Symmetric Matrices\n",
    "\n",
    "This exercise is designed to help students practice working with symmetric matrices and eigenvalue decomposition using PyTorch.\n",
    "\n",
    "## Task\n",
    "\n",
    "Write a function that takes a real symmetric matrix as a `torch.Tensor` and returns the eigenvector corresponding to the eigenvalue with the smallest absolute value.\n",
    "\n",
    "### Requirements\n",
    "\n",
    "- Use only PyTorch for linear algebra.\n",
    "- The matrix is guaranteed to be real and symmetric.\n",
    "- Return a unit-norm eigenvector.\n",
    "\n",
    "### Files\n",
    "\n",
    "- `eigenvector_finder.py`: Script to implement your function.\n",
    "- `test_eigenvector_finder.py`: Pytest-based test suite.\n",
    "- `solution.py`: Contains a correct solution for reference.\n",
    "\n",
    "### Hints\n",
    "\n",
    "You might want to look at the documentation for the [torch.linalg.eigh](https://docs.pytorch.org/docs/stable/generated/torch.linalg.eigh.html)."
   ]
  },
  {
   "cell_type": "markdown",
   "id": "0068fa08",
   "metadata": {},
   "source": [
    "## How to Run\n",
    "\n",
    "Test the solution with:\n",
    "\n",
    "```bash\n",
    "cd ALT_intro/Eigenvector\n",
    "pytest test_eigenvector_finder.py"
   ]
  },
  {
   "cell_type": "code",
   "execution_count": null,
   "id": "c34d8b3b",
   "metadata": {
    "vscode": {
     "languageId": "plaintext"
    }
   },
   "outputs": [],
   "source": [
    "import torch\n",
    "\n",
    "def find_smallest_abs_eigenvector(matrix: torch.Tensor) -> torch.Tensor:\n",
    "    \"\"\"\n",
    "    Given a real symmetric matrix, return the eigenvector corresponding to the eigenvalue\n",
    "    with the smallest absolute value.\n",
    "\n",
    "    Parameters:\n",
    "        matrix (torch.Tensor): A real symmetric matrix of shape (n, n).\n",
    "\n",
    "    Returns:\n",
    "        torch.Tensor: A normalized eigenvector as a 1D tensor.\n",
    "    \"\"\"\n",
    "    # TODO: Implement this function\n",
    "    pass"
   ]
  }
 ],
 "metadata": {
  "language_info": {
   "name": "python"
  }
 },
 "nbformat": 4,
 "nbformat_minor": 5
}
