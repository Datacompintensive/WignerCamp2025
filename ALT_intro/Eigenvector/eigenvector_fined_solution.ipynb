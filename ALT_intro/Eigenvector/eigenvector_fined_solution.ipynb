{
  "cells": [
    {
      "cell_type": "markdown",
      "id": "13b29c8c",
      "metadata": {
        "id": "13b29c8c"
      },
      "source": [
        "[![Open In Colab](https://colab.research.google.com/assets/colab-badge.svg)](https://colab.research.google.com/github/Datacompintensive/WignerCamp2025/blob/master/ALT_intro/Eigenvector/eigenvector_fined_solution.ipynb)"
      ]
    },
    {
      "cell_type": "markdown",
      "id": "f123bc98",
      "metadata": {
        "id": "f123bc98"
      },
      "source": [
        "# Eigenvector Finder for Symmetric Matrices\n",
        "\n",
        "This exercise is designed to help students practice working with symmetric matrices and eigenvalue decomposition using PyTorch.\n",
        "\n",
        "## Task\n",
        "\n",
        "Write a function that takes a real symmetric matrix as a `torch.Tensor` and returns the eigenvector corresponding to the eigenvalue with the smallest absolute value.\n",
        "\n",
        "### Requirements\n",
        "\n",
        "- Use only PyTorch for linear algebra.\n",
        "- The matrix is guaranteed to be real and symmetric.\n",
        "- Return a unit-norm eigenvector.\n",
        "\n",
        "### Files\n",
        "\n",
        "- `eigenvector_finder.py`: Script to implement your function.\n",
        "- `test_eigenvector_finder.py`: Pytest-based test suite.\n",
        "- `solution.py`: Contains a correct solution for reference.\n",
        "\n",
        "### Hints\n",
        "\n",
        "You might want to look at the documentation for the [torch.linalg.eigh](https://docs.pytorch.org/docs/stable/generated/torch.linalg.eigh.html)."
      ]
    },
    {
      "cell_type": "code",
      "execution_count": 1,
      "id": "EH2zl8Hg7Qtm",
      "metadata": {
        "id": "EH2zl8Hg7Qtm"
      },
      "outputs": [],
      "source": [
        "import torch"
      ]
    },
    {
      "cell_type": "code",
      "execution_count": 42,
      "id": "c34d8b3b",
      "metadata": {
        "id": "c34d8b3b",
        "vscode": {
          "languageId": "plaintext"
        }
      },
      "outputs": [],
      "source": [
        "def find_smallest_abs_eigenvector(matrix: torch.Tensor) -> torch.Tensor:\n",
        "    \"\"\"\n",
        "    Given a real symmetric matrix, return the eigenvector corresponding to the eigenvalue\n",
        "    with the smallest absolute value.\n",
        "\n",
        "    Parameters:\n",
        "        matrix (torch.Tensor): A real symmetric matrix of shape (n, n).\n",
        "\n",
        "    Returns:\n",
        "        torch.Tensor: A normalized eigenvector as a 1D tensor.\n",
        "    \"\"\"\n",
        "    # TODO: Implement this function\n",
        "    eigenval, eigenvec = torch.linalg.eigh(matrix)\n",
        "    smallest_val, min_index= torch.min(torch.abs(eigenval), dim=0)\n",
        "    print(eigenvec)\n",
        "    return eigenvec[:,min_index]"
      ]
    },
    {
      "cell_type": "code",
      "execution_count": 44,
      "id": "rjg7AHvY76t3",
      "metadata": {
        "colab": {
          "base_uri": "https://localhost:8080/",
          "height": 69
        },
        "id": "rjg7AHvY76t3",
        "outputId": "33fac578-9065-4f32-e41f-0e1677fd2a68"
      },
      "outputs": [
        {
          "name": "stdout",
          "output_type": "stream",
          "text": [
            "tensor([[-0.4472, -0.8944],\n",
            "        [ 0.8944, -0.4472]])\n"
          ]
        },
        {
          "data": {
            "text/plain": [
              "tensor([-0.8944, -0.4472])"
            ]
          },
          "metadata": {},
          "output_type": "display_data"
        }
      ],
      "source": [
        "device = torch.device(\"cuda\" if torch.cuda.is_available() else \"cpu\")\n",
        "tensor = torch.tensor([[1.0,2.0], [2.0,-2.0]], device = device)\n",
        "\n",
        "display(find_smallest_abs_eigenvector(tensor))"
      ]
    }
  ],
  "metadata": {
    "colab": {
      "provenance": []
    },
    "kernelspec": {
      "display_name": "Python 3",
      "name": "python3"
    },
    "language_info": {
      "name": "python"
    }
  },
  "nbformat": 4,
  "nbformat_minor": 5
}
