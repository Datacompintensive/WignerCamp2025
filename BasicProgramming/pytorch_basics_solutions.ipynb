{
 "cells": [
  {
   "cell_type": "markdown",
   "metadata": {},
   "source": [
    "<a target=\"_blank\" href=\"https://colab.research.google.com/github/Datacompintensive/WignerCamp2025/blob/master/BasicProgramming/pytorch_basics_solutions.ipynb\">\n",
    "  <img src=\"https://colab.research.google.com/assets/colab-badge.svg\" alt=\"Open In Colab\"/>\n",
    "</a>"
   ]
  },
  {
   "cell_type": "markdown",
   "metadata": {},
   "source": [
    "# PyTorch Self-Learning Notebook\n",
    "This notebook is designed to help you learn the basics of PyTorch's linear algebra capabilities. It covers operations on tensors, finding unique elements with counts, and eigenvalue decomposition on GPU. Each section includes explanations, examples, and tasks with solutions."
   ]
  },
  {
   "cell_type": "markdown",
   "metadata": {},
   "source": [
    "## Introduction to PyTorch\n",
    "PyTorch is an open-source machine learning library based on the Torch library. It is widely used for applications such as natural language processing and deep learning. In this notebook, we will focus on its linear algebra capabilities."
   ]
  },
  {
   "cell_type": "code",
   "execution_count": 1,
   "metadata": {},
   "outputs": [],
   "source": [
    "# Importing PyTorch\n",
    "import torch"
   ]
  },
  {
   "cell_type": "markdown",
   "metadata": {},
   "source": [
    "## Operations on Tensors\n",
    "Tensors are the fundamental data structures in PyTorch. They are similar to NumPy arrays but can also be used on GPUs."
   ]
  },
  {
   "cell_type": "code",
   "execution_count": 2,
   "metadata": {},
   "outputs": [
    {
     "name": "stdout",
     "output_type": "stream",
     "text": [
      "tensor([1, 2, 3, 4])\n",
      "tensor([ 6,  8, 10, 12])\n",
      "tensor([ 5, 12, 21, 32])\n"
     ]
    }
   ],
   "source": [
    "# Creating tensors\n",
    "tensor1 = torch.tensor([1, 2, 3, 4])\n",
    "print(tensor1)\n",
    "\n",
    "# Basic operations\n",
    "tensor2 = torch.tensor([5, 6, 7, 8])\n",
    "print(tensor1 + tensor2)  # Element-wise addition\n",
    "print(tensor1 * tensor2)  # Element-wise multiplication"
   ]
  },
  {
   "cell_type": "markdown",
   "metadata": {},
   "source": [
    "### Task 1\n",
    "Create the following tensors and perform element-wise addition and multiplication:\n",
    "1. `tensor3 = [10, 20, 30, 40]`\n",
    "2. `tensor4 = [2, 4, 6, 8]`"
   ]
  },
  {
   "cell_type": "code",
   "execution_count": 3,
   "metadata": {},
   "outputs": [
    {
     "name": "stdout",
     "output_type": "stream",
     "text": [
      "tensor([12, 24, 36, 48])\n",
      "tensor([ 20,  80, 180, 320])\n"
     ]
    }
   ],
   "source": [
    "# Task 1 Solution\n",
    "tensor3 = torch.tensor([10, 20, 30, 40])\n",
    "tensor4 = torch.tensor([2, 4, 6, 8])\n",
    "\n",
    "print(tensor3 + tensor4)  # Element-wise addition\n",
    "print(tensor3 * tensor4)  # Element-wise multiplication"
   ]
  },
  {
   "cell_type": "markdown",
   "metadata": {},
   "source": [
    "## Finding Unique Elements with Counts\n",
    "PyTorch provides a function to find unique elements and their counts in a tensor."
   ]
  },
  {
   "cell_type": "code",
   "execution_count": 4,
   "metadata": {},
   "outputs": [
    {
     "name": "stdout",
     "output_type": "stream",
     "text": [
      "Unique elements: tensor([1, 2, 3, 4])\n",
      "Counts: tensor([1, 2, 3, 4])\n"
     ]
    }
   ],
   "source": [
    "# Finding unique elements and counts\n",
    "tensor5 = torch.tensor([1, 2, 2, 3, 3, 3, 4, 4, 4, 4])\n",
    "unique_elements, counts = torch.unique(tensor5, return_counts=True)\n",
    "print(\"Unique elements:\", unique_elements)\n",
    "print(\"Counts:\", counts)"
   ]
  },
  {
   "cell_type": "markdown",
   "metadata": {},
   "source": [
    "### Task 2\n",
    "Given the tensor `tensor6 = [1, 1, 2, 3, 3, 3, 4, 4, 5, 5, 5, 5]`, find the unique elements and their counts."
   ]
  },
  {
   "cell_type": "code",
   "execution_count": 5,
   "metadata": {},
   "outputs": [
    {
     "name": "stdout",
     "output_type": "stream",
     "text": [
      "Unique elements: tensor([1, 2, 3, 4, 5])\n",
      "Counts: tensor([2, 1, 3, 2, 4])\n"
     ]
    }
   ],
   "source": [
    "# Task 2 Solution\n",
    "tensor6 = torch.tensor([1, 1, 2, 3, 3, 3, 4, 4, 5, 5, 5, 5])\n",
    "unique_elements, counts = torch.unique(tensor6, return_counts=True)\n",
    "print(\"Unique elements:\", unique_elements)\n",
    "print(\"Counts:\", counts)"
   ]
  },
  {
   "cell_type": "markdown",
   "metadata": {},
   "source": [
    "## Eigenvalue Decomposition on GPU\n",
    "PyTorch can perform eigenvalue decomposition on both CPU and GPU. Here, we'll show how to perform it on GPU if available."
   ]
  },
  {
   "cell_type": "code",
   "execution_count": 12,
   "metadata": {},
   "outputs": [
    {
     "name": "stdout",
     "output_type": "stream",
     "text": [
      "cuda\n",
      "tensor([[1., 2.],\n",
      "        [2., 3.]], device='cuda:0')\n",
      "\n",
      "Eigenvalues: tensor([-0.2361+0.j,  4.2361+0.j], device='cuda:0')\n",
      "Eigenvectors:\n",
      " tensor([[-0.8507+0.j, -0.5257+0.j],\n",
      "        [ 0.5257+0.j, -0.8507+0.j]], device='cuda:0')\n",
      "\n",
      "Eigenvalues: tensor([-0.2361,  4.2361], device='cuda:0')\n",
      "Eigenvectors:\n",
      " tensor([[ 0.8507,  0.5257],\n",
      "        [-0.5257,  0.8507]], device='cuda:0')\n"
     ]
    }
   ],
   "source": [
    "# Checking for GPU\n",
    "device = torch.device(\"cuda\" if torch.cuda.is_available() else \"cpu\")\n",
    "print(device)\n",
    "\n",
    "# Creating a matrix and moving it to GPU\n",
    "matrix = torch.tensor([[1.0, 2.0], [2.0, 3.0]], device=device)\n",
    "print(matrix)\n",
    "\n",
    "print()\n",
    "# Performing eigenvalue decomposition\n",
    "eigenvalues, eigenvectors = torch.linalg.eig(matrix)\n",
    "print(\"Eigenvalues:\", eigenvalues)\n",
    "print(\"Eigenvectors:\\n\", eigenvectors)\n",
    "\n",
    "print()\n",
    "# Performing eigenvalue decomposition\n",
    "eigenvalues, eigenvectors = torch.linalg.eigh(matrix)\n",
    "print(\"Eigenvalues:\", eigenvalues)\n",
    "print(\"Eigenvectors:\\n\", eigenvectors)"
   ]
  },
  {
   "cell_type": "markdown",
   "metadata": {},
   "source": [
    "### Task 3\n",
    "Create a 2x2 matrix `[[4.0, 1.0], [2.0, 3.0]]` and perform eigenvalue decomposition on GPU."
   ]
  },
  {
   "cell_type": "code",
   "execution_count": 15,
   "metadata": {},
   "outputs": [
    {
     "name": "stdout",
     "output_type": "stream",
     "text": [
      "Eigenvalues: tensor([1.4384, 5.5616], device='cuda:0')\n",
      "Eigenvectors: tensor([[-0.6154,  0.7882],\n",
      "        [ 0.7882,  0.6154]], device='cuda:0')\n"
     ]
    }
   ],
   "source": [
    "# Task 3 Solution\n",
    "matrix_task = torch.tensor([[4.0, 1.0], [2.0, 3.0]], device=device)\n",
    "eigenvalues_task, eigenvectors_task = torch.linalg.eigh(matrix_task)\n",
    "print(\"Eigenvalues:\", eigenvalues_task)\n",
    "print(\"Eigenvectors:\", eigenvectors_task)"
   ]
  },
  {
   "cell_type": "markdown",
   "metadata": {},
   "source": [
    "## Conclusion\n",
    "This notebook provided an introduction to PyTorch's linear algebra capabilities, covering operations on tensors, finding unique elements with counts, and eigenvalue decomposition on GPU. Practice these concepts to become more comfortable with PyTorch."
   ]
  }
 ],
 "metadata": {
  "kernelspec": {
   "display_name": "Python 3",
   "language": "python",
   "name": "python3"
  },
  "language_info": {
   "codemirror_mode": {
    "name": "ipython",
    "version": 3
   },
   "file_extension": ".py",
   "mimetype": "text/x-python",
   "name": "python",
   "nbconvert_exporter": "python",
   "pygments_lexer": "ipython3",
   "version": "3.11.9"
  }
 },
 "nbformat": 4,
 "nbformat_minor": 4
}
