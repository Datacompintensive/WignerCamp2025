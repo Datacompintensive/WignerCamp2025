{
 "cells": [
  {
   "cell_type": "markdown",
   "metadata": {},
   "source": [
    "<a target=\"_blank\" href=\"https://colab.research.google.com/github/Datacompintensive/WignerCamp2025/blob/master/BasicProgramming/numpy_basics_solutions.ipynb\">\n",
    "  <img src=\"https://colab.research.google.com/assets/colab-badge.svg\" alt=\"Open In Colab\"/>\n",
    "</a>"
   ]
  },
  {
   "cell_type": "markdown",
   "metadata": {},
   "source": [
    "# `NumPy` Self-Learning Notebook\n",
    "This notebook is designed to help you learn `NumPy`. It covers array creation, basic operations, and slicing of multi-dimensional arrays. Each section includes explanations, examples, and tasks with solutions.\n",
    "\n",
    "📚 This notebook is part of the educational materials of Wigner Summer Camp 2025. For further details please visit the project's [GitHub repository](https://github.com/Datacompintensive/WignerCamp2025)."
   ]
  },
  {
   "cell_type": "code",
   "execution_count": null,
   "metadata": {},
   "outputs": [],
   "source": [
    "try:\n",
    "    from google.colab import drive\n",
    "    IN_COLAB = True\n",
    "    drive.mount('/content/drive/')\n",
    "    %cd /content/drive/My Drive/Colab Notebooks/WignerCamp2025\n",
    "except:\n",
    "    IN_COLAB = False\n",
    "print(f'Running on {\"Google colab\" if IN_COLAB else \"Local computer\"}')"
   ]
  },
  {
   "cell_type": "markdown",
   "metadata": {},
   "source": [
    "## Introduction to `NumPy`\n",
    "`NumPy` is a fundamental package for scientific computing with Python. It provides support for arrays, matrices, and many mathematical functions."
   ]
  },
  {
   "cell_type": "code",
   "execution_count": 2,
   "metadata": {},
   "outputs": [],
   "source": [
    "# Importing NumPy\n",
    "import numpy as np"
   ]
  },
  {
   "cell_type": "markdown",
   "metadata": {},
   "source": [
    "## Creating Arrays\n",
    "`NumPy` arrays can be created in several ways: from lists, using functions like `arange`, `zeros`, `ones`, and `random`."
   ]
  },
  {
   "cell_type": "code",
   "execution_count": 3,
   "metadata": {},
   "outputs": [
    {
     "name": "stdout",
     "output_type": "stream",
     "text": [
      "[1 2 3 4]\n",
      "[0 1 2 3 4 5 6 7 8 9]\n",
      "[[0. 0. 0.]\n",
      " [0. 0. 0.]\n",
      " [0. 0. 0.]]\n",
      "[[1. 1. 1. 1.]\n",
      " [1. 1. 1. 1.]]\n",
      "[0.48302415 0.50232883 0.74642479 0.21825042 0.803254  ]\n"
     ]
    }
   ],
   "source": [
    "# Creating arrays from lists\n",
    "arr1 = np.array([1, 2, 3, 4])\n",
    "print(arr1)\n",
    "\n",
    "# Creating arrays using arange\n",
    "arr2 = np.arange(10)\n",
    "print(arr2)\n",
    "\n",
    "# Creating arrays of zeros\n",
    "arr3 = np.zeros((3, 3))\n",
    "print(arr3)\n",
    "\n",
    "# Creating arrays of ones\n",
    "arr4 = np.ones((2, 4))\n",
    "print(arr4)\n",
    "\n",
    "# Creating random arrays\n",
    "arr5 = np.random.rand(5)\n",
    "print(arr5)"
   ]
  },
  {
   "cell_type": "markdown",
   "metadata": {},
   "source": [
    "### Task 1\n",
    "Create the following arrays:\n",
    "1. An array from a list: `[10, 20, 30, 40]`\n",
    "2. An array with values from 5 to 14\n",
    "3. A 4x4 array of zeros\n",
    "4. A 3x3 array of ones\n",
    "5. An array of 6 random numbers"
   ]
  },
  {
   "cell_type": "code",
   "execution_count": 4,
   "metadata": {},
   "outputs": [
    {
     "name": "stdout",
     "output_type": "stream",
     "text": [
      "[10 20 30 40]\n",
      "[ 5  6  7  8  9 10 11 12 13 14]\n",
      "[[0. 0. 0. 0.]\n",
      " [0. 0. 0. 0.]\n",
      " [0. 0. 0. 0.]\n",
      " [0. 0. 0. 0.]]\n",
      "[[1. 1. 1.]\n",
      " [1. 1. 1.]\n",
      " [1. 1. 1.]]\n",
      "[0.75455375 0.19202234 0.89677115 0.91961205 0.69170065 0.17367535]\n"
     ]
    }
   ],
   "source": [
    "# Task 1 Solution\n",
    "# 1. Array from a list\n",
    "task_arr1 = np.array([10, 20, 30, 40])\n",
    "print(task_arr1)\n",
    "\n",
    "# 2. Array with values from 5 to 14\n",
    "task_arr2 = np.arange(5, 15)\n",
    "print(task_arr2)\n",
    "\n",
    "# 3. 4x4 array of zeros\n",
    "task_arr3 = np.zeros((4, 4))\n",
    "print(task_arr3)\n",
    "\n",
    "# 4. 3x3 array of ones\n",
    "task_arr4 = np.ones((3, 3))\n",
    "print(task_arr4)\n",
    "\n",
    "# 5. Array of 6 random numbers\n",
    "task_arr5 = np.random.rand(6)\n",
    "print(task_arr5)"
   ]
  },
  {
   "cell_type": "markdown",
   "metadata": {},
   "source": [
    "## Basic Operations\n",
    "`NumPy` supports element-wise operations as well as matrix operations. Here are some examples."
   ]
  },
  {
   "cell_type": "code",
   "execution_count": 5,
   "metadata": {},
   "outputs": [
    {
     "name": "stdout",
     "output_type": "stream",
     "text": [
      "[11 12 13 14]\n",
      "[2 4 6 8]\n",
      "[[19 22]\n",
      " [43 50]]\n",
      "[[19 22]\n",
      " [43 50]]\n"
     ]
    }
   ],
   "source": [
    "# Element-wise operations\n",
    "arr = np.array([1, 2, 3, 4])\n",
    "print(arr + 10)  # Adding 10 to each element\n",
    "print(arr * 2)   # Multiplying each element by 2\n",
    "\n",
    "# Matrix operations\n",
    "mat1 = np.array([[1, 2], [3, 4]])\n",
    "mat2 = np.array([[5, 6], [7, 8]])\n",
    "print(np.dot(mat1, mat2))  # Matrix multiplication\n",
    "print(mat1@mat2)"
   ]
  },
  {
   "cell_type": "markdown",
   "metadata": {},
   "source": [
    "### Task 2\n",
    "Perform the following operations:\n",
    "1. Add 5 to each element of an array: `[10, 20, 30, 40]`\n",
    "2. Multiply each element of an array by 3: `[1, 2, 3, 4, 5]`\n",
    "3. Perform matrix multiplication on two 2x2 matrices:\n",
    "   `[[1, 2], [3, 4]]` and `[[2, 0], [1, 2]]`"
   ]
  },
  {
   "cell_type": "code",
   "execution_count": 6,
   "metadata": {},
   "outputs": [
    {
     "name": "stdout",
     "output_type": "stream",
     "text": [
      "[15 25 35 45]\n",
      "[ 3  6  9 12 15]\n",
      "[[ 4  4]\n",
      " [10  8]]\n",
      "[[ 4  4]\n",
      " [10  8]]\n"
     ]
    }
   ],
   "source": [
    "# Task 2 Solution\n",
    "# 1. Add 5 to each element\n",
    "task_arr1 = np.array([10, 20, 30, 40])\n",
    "print(task_arr1 + 5)\n",
    "\n",
    "# 2. Multiply each element by 3\n",
    "task_arr2 = np.array([1, 2, 3, 4, 5])\n",
    "print(task_arr2 * 3)\n",
    "\n",
    "# 3. Matrix multiplication\n",
    "task_mat1 = np.array([[1, 2], [3, 4]])\n",
    "task_mat2 = np.array([[2, 0], [1, 2]])\n",
    "print(np.dot(task_mat1, task_mat2))\n",
    "print(task_mat1@task_mat2)"
   ]
  },
  {
   "cell_type": "markdown",
   "metadata": {},
   "source": [
    "## Slicing Multi-Dimensional Arrays\n",
    "Slicing in multi-dimensional arrays is similar to slicing in one-dimensional arrays, but you need to specify a slice for each dimension."
   ]
  },
  {
   "cell_type": "code",
   "execution_count": 7,
   "metadata": {},
   "outputs": [
    {
     "name": "stdout",
     "output_type": "stream",
     "text": [
      "[[1 2 3]\n",
      " [4 5 6]\n",
      " [7 8 9]]\n",
      "[2 3]\n",
      "[[4 5]\n",
      " [7 8]]\n"
     ]
    }
   ],
   "source": [
    "# Creating a 3x3 array\n",
    "arr2d = np.array([[1, 2, 3], [4, 5, 6], [7, 8, 9]])\n",
    "print(arr2d)\n",
    "\n",
    "# Slicing the array\n",
    "print(arr2d[0, 1:3])  # First row, second and third columns\n",
    "print(arr2d[1:3, 0:2]) # Second and third rows, first and second columns"
   ]
  },
  {
   "cell_type": "markdown",
   "metadata": {},
   "source": [
    "### Task 3\n",
    "Given the following 4x4 array:\n",
    "```\n",
    "arr2d = np.array([\n",
    "    [ 1,  2,  3,  4],\n",
    "    [ 5,  6,  7,  8],\n",
    "    [ 9, 10, 11, 12],\n",
    "    [13, 14, 15, 16]\n",
    "])\n",
    "```\n",
    "Perform the following slices:\n",
    "1. Extract the first two rows and columns\n",
    "2. Extract the last two rows and columns\n",
    "3. Extract the middle 2x2 sub-array"
   ]
  },
  {
   "cell_type": "code",
   "execution_count": 8,
   "metadata": {},
   "outputs": [
    {
     "name": "stdout",
     "output_type": "stream",
     "text": [
      "[[1 2]\n",
      " [5 6]]\n",
      "[[11 12]\n",
      " [15 16]]\n",
      "[[ 6  7]\n",
      " [10 11]]\n"
     ]
    }
   ],
   "source": [
    "# Task 3 Solution\n",
    "arr2d = np.array([\n",
    "    [ 1,  2,  3,  4],\n",
    "    [ 5,  6,  7,  8],\n",
    "    [ 9, 10, 11, 12],\n",
    "    [13, 14, 15, 16]\n",
    "])\n",
    "\n",
    "# 1. Extract the first two rows and columns\n",
    "print(arr2d[:2, :2])\n",
    "\n",
    "# 2. Extract the last two rows and columns\n",
    "print(arr2d[2:, 2:])\n",
    "\n",
    "# 3. Extract the middle 2x2 sub-array\n",
    "print(arr2d[1:3, 1:3])"
   ]
  },
  {
   "cell_type": "markdown",
   "metadata": {},
   "source": [
    "## Conclusion\n",
    "This notebook provided an introduction to `NumPy`, covering array creation, basic operations, and slicing of multi-dimensional arrays. Practice these concepts to become more comfortable with `NumPy`."
   ]
  }
 ],
 "metadata": {
  "kernelspec": {
   "display_name": "Python 3",
   "language": "python",
   "name": "python3"
  },
  "language_info": {
   "codemirror_mode": {
    "name": "ipython",
    "version": 3
   },
   "file_extension": ".py",
   "mimetype": "text/x-python",
   "name": "python",
   "nbconvert_exporter": "python",
   "pygments_lexer": "ipython3",
   "version": "3.11.9"
  }
 },
 "nbformat": 4,
 "nbformat_minor": 4
}
