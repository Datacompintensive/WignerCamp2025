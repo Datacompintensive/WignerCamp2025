{
 "cells": [
  {
   "cell_type": "markdown",
   "id": "9fba1fd2",
   "metadata": {},
   "source": [
    "# Scientific Computing Basics with PyTorch\n",
    "\n",
    "This notebook introduces fundamental operations in scientific computing using Python and PyTorch.\n",
    "\n",
    "[![Open In Colab](https://colab.research.google.com/assets/colab-badge.svg)](https://colab.research.google.com/github/Datacompintensive/WignerCamp2025/blob/master/Mathematics/ComputingExercises.ipynb)\n",
    "\n",
    "Topics covered:\n",
    "- Dot product\n",
    "- Vector-matrix multiplication\n",
    "- Matrix-matrix multiplication\n",
    "- Eigendecomposition (real symmetric matrices)\n",
    "- Percentile calculation"
   ]
  },
  {
   "cell_type": "code",
   "execution_count": 1,
   "id": "74a15be1",
   "metadata": {},
   "outputs": [],
   "source": [
    "import torch"
   ]
  },
  {
   "cell_type": "markdown",
   "id": "6c0de296",
   "metadata": {},
   "source": [
    "## Dot Product\n",
    "The dot product of vectors $\\vec{a}, \\vec{b} \\in \\mathbb{R}^n$ is defined as:\n",
    "\n",
    "\\begin{equation}\n",
    "\\vec{a} \\cdot \\vec{b} = \\sum_{i=1}^n a_i b_i.\n",
    "\\end{equation}"
   ]
  },
  {
   "cell_type": "code",
   "execution_count": 2,
   "id": "69f9079e",
   "metadata": {},
   "outputs": [
    {
     "data": {
      "text/plain": [
       "tensor(32.)"
      ]
     },
     "execution_count": 2,
     "metadata": {},
     "output_type": "execute_result"
    }
   ],
   "source": [
    "a = torch.tensor([1.0, 2.0, 3.0])\n",
    "b = torch.tensor([4.0, 5.0, 6.0])\n",
    "dot_product = a @ b\n",
    "dot_product"
   ]
  },
  {
   "cell_type": "markdown",
   "id": "26b8c945",
   "metadata": {},
   "source": [
    "### Exercise\n",
    "Compute the dot product of $[1, 0, -1]$ and $[2, 3, 4]$."
   ]
  },
  {
   "cell_type": "code",
   "execution_count": 3,
   "id": "29de75ac",
   "metadata": {},
   "outputs": [],
   "source": [
    "# Solution\n"
   ]
  },
  {
   "cell_type": "markdown",
   "id": "72c63712",
   "metadata": {},
   "source": [
    "## Vector-Matrix Multiplication\n",
    "Given a matrix $M \\in \\mathbb{R}^{n \\times m}$ and a vector $\\vec{v} \\in \\mathbb{R}^m$:\n",
    "\n",
    "\\begin{equation}\n",
    "M\\vec{v} = \\vec{w} \\in \\mathbb{R}^n.\n",
    "\\end{equation}"
   ]
  },
  {
   "cell_type": "code",
   "execution_count": 4,
   "id": "e9d989f0",
   "metadata": {},
   "outputs": [
    {
     "data": {
      "text/plain": [
       "tensor([11., 20., 29.])"
      ]
     },
     "execution_count": 4,
     "metadata": {},
     "output_type": "execute_result"
    }
   ],
   "source": [
    "M = torch.tensor([[3.0, 4.0],\n",
    "                  [6.0, 7.0],\n",
    "                  [9.0, 10.0]])\n",
    "v = torch.tensor([1.0, 2.0])\n",
    "w = M @ v\n",
    "w"
   ]
  },
  {
   "cell_type": "markdown",
   "id": "40fc4894",
   "metadata": {},
   "source": [
    "### Exercise\n",
    "Multiply matrix $\\begin{bmatrix}1 & 0 \\\\ 0 & 1 \\end{bmatrix}$ from the left with $[2, -1]$."
   ]
  },
  {
   "cell_type": "code",
   "execution_count": 5,
   "id": "99413ec5",
   "metadata": {},
   "outputs": [],
   "source": [
    "# Solution\n"
   ]
  },
  {
   "cell_type": "markdown",
   "id": "e87138c2",
   "metadata": {},
   "source": [
    "## Matrix-Matrix Multiplication\n",
    "Given $A \\in \\mathbb{R}^{n \\times m}$ and $B \\in \\mathbb{R}^{m \\times k}$:\n",
    "\n",
    "\\begin{equation}\n",
    "C = AB \\in \\mathbb{R}^{n \\times k}.\n",
    "\\end{equation}"
   ]
  },
  {
   "cell_type": "code",
   "execution_count": 6,
   "id": "9286f937",
   "metadata": {},
   "outputs": [
    {
     "data": {
      "text/plain": [
       "tensor([[19., 22.],\n",
       "        [43., 50.]])"
      ]
     },
     "execution_count": 6,
     "metadata": {},
     "output_type": "execute_result"
    }
   ],
   "source": [
    "A = torch.tensor([[1.0, 2.0],\n",
    "                  [3.0, 4.0]])\n",
    "B = torch.tensor([[5.0, 6.0],\n",
    "                  [7.0, 8.0]])\n",
    "C = A @ B\n",
    "C"
   ]
  },
  {
   "cell_type": "markdown",
   "id": "5fabdf24",
   "metadata": {},
   "source": [
    "### Exercise\n",
    "Multiply $\\begin{bmatrix}2 & 0 \\\\ 0 & 2\\end{bmatrix}$ with itself."
   ]
  },
  {
   "cell_type": "code",
   "execution_count": 7,
   "id": "9ceb84c5",
   "metadata": {},
   "outputs": [],
   "source": [
    "# Solution\n"
   ]
  },
  {
   "cell_type": "markdown",
   "id": "29b82477",
   "metadata": {},
   "source": [
    "## Eigendecomposition (Real Symmetric Matrices)\n",
    "Given a real symmetric matrix $A$, there exists a matrix $Q$ of orthonormal eigenvectors and a diagonal matrix $\\Lambda$ of eigenvalues such that:\n",
    "\n",
    "\\begin{equation}\n",
    "A = Q \\Lambda Q^T.\n",
    "\\end{equation}"
   ]
  },
  {
   "cell_type": "code",
   "execution_count": 8,
   "id": "7840c3c1",
   "metadata": {},
   "outputs": [
    {
     "data": {
      "text/plain": [
       "tensor([2., 3.])"
      ]
     },
     "metadata": {},
     "output_type": "display_data"
    },
    {
     "data": {
      "text/plain": [
       "tensor([[1., 0.],\n",
       "        [0., 1.]])"
      ]
     },
     "metadata": {},
     "output_type": "display_data"
    },
    {
     "data": {
      "text/plain": [
       "(tensor(2.), tensor([1., 0.]))"
      ]
     },
     "execution_count": 8,
     "metadata": {},
     "output_type": "execute_result"
    }
   ],
   "source": [
    "A = torch.tensor([[2.0, 0.0],\n",
    "                  [0.0, 3.0]])\n",
    "eigenvalues, eigenvectors = torch.linalg.eigh(A)\n",
    "display(eigenvalues, eigenvectors)\n",
    "idx = 0\n",
    "eigenvalues[idx], eigenvectors[:, idx]"
   ]
  },
  {
   "cell_type": "markdown",
   "id": "7affd022",
   "metadata": {},
   "source": [
    "### Exercise\n",
    "Find the smallest eigenvalue and its eigenvector of $\\begin{bmatrix}4 & 1 \\\\ 1 & 3\\end{bmatrix}$."
   ]
  },
  {
   "cell_type": "code",
   "execution_count": 9,
   "id": "bc957182",
   "metadata": {},
   "outputs": [],
   "source": [
    "# Solution\n"
   ]
  },
  {
   "cell_type": "markdown",
   "id": "50bb97f4",
   "metadata": {},
   "source": [
    "## Percentiles\n",
    "The $q$-th percentile of a dataset $x_1, x_2, \\dots, x_n$ is the value below which $q\\%$ of the observations fall.\n",
    "\n",
    "In code:"
   ]
  },
  {
   "cell_type": "code",
   "execution_count": 10,
   "id": "f67f606f",
   "metadata": {},
   "outputs": [
    {
     "data": {
      "text/plain": [
       "tensor(3.)"
      ]
     },
     "execution_count": 10,
     "metadata": {},
     "output_type": "execute_result"
    }
   ],
   "source": [
    "data = torch.tensor([1.0, 2.0, 3.0, 4.0, 5.0])\n",
    "percentile_50 = torch.quantile(data, 0.5)\n",
    "percentile_50"
   ]
  },
  {
   "cell_type": "markdown",
   "id": "4341b76f",
   "metadata": {},
   "source": [
    "### Exercise\n",
    "Calculate the 25th and 75th percentiles of $[10, 20, 30, 40, 50]$."
   ]
  },
  {
   "cell_type": "code",
   "execution_count": 11,
   "id": "e4d4dc19",
   "metadata": {},
   "outputs": [],
   "source": [
    "# Solution\n"
   ]
  }
 ],
 "metadata": {
  "kernelspec": {
   "display_name": "CompPhys",
   "language": "python",
   "name": "python3"
  },
  "language_info": {
   "codemirror_mode": {
    "name": "ipython",
    "version": 3
   },
   "file_extension": ".py",
   "mimetype": "text/x-python",
   "name": "python",
   "nbconvert_exporter": "python",
   "pygments_lexer": "ipython3",
   "version": "3.9.18"
  }
 },
 "nbformat": 4,
 "nbformat_minor": 5
}
